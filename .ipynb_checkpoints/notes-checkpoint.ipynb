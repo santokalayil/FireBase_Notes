{
 "cells": [
  {
   "cell_type": "code",
   "execution_count": 2,
   "id": "deadly-triangle",
   "metadata": {},
   "outputs": [],
   "source": [
    "#!pip install firebase_admin"
   ]
  },
  {
   "cell_type": "code",
   "execution_count": 4,
   "id": "atmospheric-donor",
   "metadata": {},
   "outputs": [],
   "source": [
    "import firebase_admin\n",
    "from firebase_admin import credentials\n",
    "from firebase_admin import firestore\n",
    "serviceAccountKey_json_file = \"firestore.json\"\n",
    "cred = credentials.Certificate(serviceAccountKey_json_file)\n",
    "firebase_admin.initialize_app(cred)\n",
    "\n",
    "db = firestore.client()"
   ]
  },
  {
   "cell_type": "code",
   "execution_count": 5,
   "id": "italian-angola",
   "metadata": {},
   "outputs": [
    {
     "data": {
      "text/plain": [
       "(DatetimeWithNanoseconds(2021, 4, 29, 23, 47, 3, 558650, tzinfo=datetime.timezone.utc),\n",
       " <google.cloud.firestore_v1.document.DocumentReference at 0x18946605b20>)"
      ]
     },
     "execution_count": 5,
     "metadata": {},
     "output_type": "execute_result"
    }
   ],
   "source": [
    "# creating a new collection and initializing it with data fields\n",
    "db.collection(\"persons\").add(\n",
    "    {\n",
    "        \"name\": \"John\", \n",
    "        \"age\": 48,\n",
    "        \"married\": True\n",
    "    }\n",
    ")"
   ]
  },
  {
   "cell_type": "markdown",
   "id": "competitive-metallic",
   "metadata": {},
   "source": [
    "# CREATING DATA TO THE CLOUD FIRESTORE"
   ]
  },
  {
   "cell_type": "code",
   "execution_count": 12,
   "id": "simplified-advocate",
   "metadata": {},
   "outputs": [],
   "source": [
    "# auto ids allow us to create duplicate data over an over if we re-run it"
   ]
  },
  {
   "cell_type": "code",
   "execution_count": 6,
   "id": "fluid-stable",
   "metadata": {},
   "outputs": [
    {
     "data": {
      "text/plain": [
       "(DatetimeWithNanoseconds(2021, 4, 29, 23, 55, 23, 48408, tzinfo=datetime.timezone.utc),\n",
       " <google.cloud.firestore_v1.document.DocumentReference at 0x189465b87c0>)"
      ]
     },
     "execution_count": 6,
     "metadata": {},
     "output_type": "execute_result"
    }
   ],
   "source": [
    "# Add documents with auto IDs\n",
    "data = dict(name=\"John\", age=40, employed=True)\n",
    "db.collection(\"people\").add(data)"
   ]
  },
  {
   "cell_type": "code",
   "execution_count": 13,
   "id": "broke-truck",
   "metadata": {},
   "outputs": [
    {
     "data": {
      "text/plain": [
       "update_time {\n",
       "  seconds: 1619741567\n",
       "  nanos: 879226000\n",
       "}"
      ]
     },
     "execution_count": 13,
     "metadata": {},
     "output_type": "execute_result"
    }
   ],
   "source": [
    "# Set documents with auto IDs\n",
    "data = dict(name=\"Jane David\", age=32, employed=False)\n",
    "db.collection(\"people\").document().set(data) # doc_name is not passed here.. so auto IDs"
   ]
  },
  {
   "cell_type": "code",
   "execution_count": 15,
   "id": "great-crisis",
   "metadata": {},
   "outputs": [
    {
     "data": {
      "text/plain": [
       "update_time {\n",
       "  seconds: 1619741941\n",
       "  nanos: 257674000\n",
       "}"
      ]
     },
     "execution_count": 15,
     "metadata": {},
     "output_type": "execute_result"
    }
   ],
   "source": [
    "# Set documents with known IDs\n",
    "data = dict(name=\"Jane Doe\", age=40, employed=False)\n",
    "id_no = 1  # use for loop in seriious projects\n",
    "doc_name = str(id_no).zfill(4) + \"_\" + (data['name']).lower().replace(\" \", \"_\") # just setting doc_name like 0001_name_etc\n",
    "db.collection(\"people\").document(doc_name).set(data)  # adding document to collection with document reference"
   ]
  },
  {
   "cell_type": "code",
   "execution_count": 16,
   "id": "packed-closer",
   "metadata": {},
   "outputs": [
    {
     "data": {
      "text/plain": [
       "update_time {\n",
       "  seconds: 1619742027\n",
       "  nanos: 390973000\n",
       "}"
      ]
     },
     "execution_count": 16,
     "metadata": {},
     "output_type": "execute_result"
    }
   ],
   "source": [
    "# Merging data or update sometimes\n",
    "data = dict(address=\"#566, 24th Avenue, Ist Main, Bengalore\", age=60) # earlier age of Jane Doe was 40 now changeing it 60\n",
    "db.collection(\"people\").document(doc_name).set(data, merge=True) \n",
    "# using same doc_name from Jane Doe section of set doc with known ids"
   ]
  },
  {
   "cell_type": "code",
   "execution_count": 17,
   "id": "juvenile-genetics",
   "metadata": {},
   "outputs": [
    {
     "data": {
      "text/plain": [
       "update_time {\n",
       "  seconds: 1619742700\n",
       "  nanos: 171814000\n",
       "}"
      ]
     },
     "execution_count": 17,
     "metadata": {},
     "output_type": "execute_result"
    }
   ],
   "source": [
    "# adding movies which Jane Doe watched |  ==== Collection inside a document\n",
    "# use add for autoIds or set for our own ids for movies, here i use unique ids\n",
    "data = dict(name=\"Avengers\")\n",
    "db.collection(\"people\").document(doc_name).collection(\"movies\").document(\"001_Avengers\").set(data)\n",
    "\n",
    "data = dict(name=\"Harry Potter\")\n",
    "db.collection(\"people\").document(doc_name).collection(\"movies\").document(\"002_Harry_Potter\").set(data)"
   ]
  },
  {
   "cell_type": "markdown",
   "id": "interested-copying",
   "metadata": {},
   "source": [
    "# Read Data for FireStore"
   ]
  },
  {
   "cell_type": "code",
   "execution_count": 18,
   "id": "bigger-burlington",
   "metadata": {},
   "outputs": [
    {
     "name": "stdout",
     "output_type": "stream",
     "text": [
      "{'age': 60, 'name': 'Jane Doe', 'address': '#566, 24th Avenue, Ist Main, Bengalore', 'employed': False}\n"
     ]
    }
   ],
   "source": [
    "# getting a document with a known ID (not generated Ids)\n",
    "result = db.collection(\"people\").document(doc_name).get()\n",
    "if result.exists:\n",
    "    print(result.to_dict())"
   ]
  },
  {
   "cell_type": "code",
   "execution_count": 20,
   "id": "alive-tulsa",
   "metadata": {},
   "outputs": [
    {
     "name": "stdout",
     "output_type": "stream",
     "text": [
      "{'name': 'Jane Doe', 'address': '#566, 24th Avenue, Ist Main, Bengalore', 'age': 60, 'employed': False}\n",
      "{'employed': False, 'name': 'Jane Doe', 'age': 40}\n",
      "{'employed': True, 'name': 'John', 'age': 40}\n",
      "{'employed': False, 'name': 'Jane David', 'age': 32}\n"
     ]
    }
   ],
   "source": [
    "# getting all documents in a collection\n",
    "docs = db.collection(\"people\").get()\n",
    "for doc in docs:\n",
    "    print(doc.to_dict())"
   ]
  },
  {
   "cell_type": "code",
   "execution_count": null,
   "id": "correct-cartoon",
   "metadata": {},
   "outputs": [],
   "source": [
    "# QUERYING - where, "
   ]
  },
  {
   "cell_type": "code",
   "execution_count": 24,
   "id": "choice-straight",
   "metadata": {},
   "outputs": [
    {
     "name": "stdout",
     "output_type": "stream",
     "text": [
      "{'age': 40, 'employed': False, 'name': 'Jane Doe'}\n",
      "{'name': 'John', 'age': 40, 'employed': True}\n"
     ]
    }
   ],
   "source": [
    "# equal - work with integer, float \n",
    "docs = db.collection(\"people\").where(\"age\", \"==\", 40).get() # where\n",
    "for doc in docs:\n",
    "    print(doc.to_dict())"
   ]
  },
  {
   "cell_type": "code",
   "execution_count": 22,
   "id": "urban-projection",
   "metadata": {},
   "outputs": [
    {
     "name": "stdout",
     "output_type": "stream",
     "text": [
      "{'employed': False, 'address': '#566, 24th Avenue, Ist Main, Bengalore', 'name': 'Jane Doe', 'age': 60}\n"
     ]
    }
   ],
   "source": [
    "# greater than - work with only integers \n",
    "docs = db.collection(\"people\").where(\"age\", \">\", 40).get() # where\n",
    "for doc in docs:\n",
    "    print(doc.to_dict())"
   ]
  },
  {
   "cell_type": "code",
   "execution_count": 25,
   "id": "seeing-helicopter",
   "metadata": {},
   "outputs": [],
   "source": [
    "# same way use == != > < >= <="
   ]
  },
  {
   "cell_type": "code",
   "execution_count": 26,
   "id": "square-constitutional",
   "metadata": {},
   "outputs": [
    {
     "name": "stdout",
     "output_type": "stream",
     "text": [
      "{'age': 40, 'name': 'John', 'employed': True}\n"
     ]
    }
   ],
   "source": [
    "# equal - work with strings \n",
    "docs = db.collection(\"people\").where(\"name\", \"==\", \"John\").get() # where\n",
    "for doc in docs:\n",
    "    print(doc.to_dict())"
   ]
  },
  {
   "cell_type": "code",
   "execution_count": 33,
   "id": "minimal-allen",
   "metadata": {},
   "outputs": [
    {
     "name": "stdout",
     "output_type": "stream",
     "text": [
      "{'name': 'Jane Doe', 'employed': False, 'socials': ['Facebook', 'YouTube'], 'address': '#566, 24th Avenue, Ist Main, Bengalore', 'age': 60}\n"
     ]
    }
   ],
   "source": [
    "# array search\n",
    "docs = db.collection(\"people\").where(\"socials\", \"array_contains\", \"YouTube\").get() # where\n",
    "for doc in docs:\n",
    "    print(doc.to_dict())"
   ]
  },
  {
   "cell_type": "code",
   "execution_count": 35,
   "id": "known-detector",
   "metadata": {},
   "outputs": [
    {
     "name": "stdout",
     "output_type": "stream",
     "text": [
      "{'socials': ['Facebook', 'YouTube'], 'address': '#566, 24th Avenue, Ist Main, Bengalore', 'age': 60, 'employed': False, 'name': 'Jane Doe'}\n"
     ]
    }
   ],
   "source": [
    "# IN OPERATOR\n",
    "docs = db.collection(\"people\").where(\n",
    "    \"address\", \"in\", [\"#566, 24th Avenue, Ist Main, Bengalore\", \"Africa\"] # this shoudl be an array for IN to work\n",
    ").get() # where in\n",
    "for doc in docs:\n",
    "    print(doc.to_dict())"
   ]
  },
  {
   "cell_type": "code",
   "execution_count": null,
   "id": "western-correlation",
   "metadata": {},
   "outputs": [],
   "source": []
  }
 ],
 "metadata": {
  "kernelspec": {
   "display_name": "Python 3",
   "language": "python",
   "name": "python3"
  },
  "language_info": {
   "codemirror_mode": {
    "name": "ipython",
    "version": 3
   },
   "file_extension": ".py",
   "mimetype": "text/x-python",
   "name": "python",
   "nbconvert_exporter": "python",
   "pygments_lexer": "ipython3",
   "version": "3.9.2"
  }
 },
 "nbformat": 4,
 "nbformat_minor": 5
}
